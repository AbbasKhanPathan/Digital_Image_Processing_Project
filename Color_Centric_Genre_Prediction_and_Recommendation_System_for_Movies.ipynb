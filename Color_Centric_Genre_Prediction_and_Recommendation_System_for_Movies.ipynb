{
  "cells": [
    {
      "cell_type": "markdown",
      "metadata": {
        "id": "D-hBi4CTZ_7b"
      },
      "source": [
        "## **Imports and setup**"
      ]
    },
    {
      "cell_type": "code",
      "execution_count": null,
      "metadata": {
        "id": "h0Y3qpomZ_BM"
      },
      "outputs": [],
      "source": [
        "import cv2\n",
        "import math\n",
        "import webcolors\n",
        "import numpy as np\n",
        "import matplotlib.pyplot as plt\n",
        "from sklearn.cluster import KMeans\n",
        "import os\n",
        "from collections import Counter\n",
        "from scipy.spatial.distance import cdist"
      ]
    },
    {
      "cell_type": "markdown",
      "metadata": {
        "id": "TCeIkivOaE1Y"
      },
      "source": [
        "## **Compute Mean Squared Error (MSE) between frames for boundary detection**"
      ]
    },
    {
      "cell_type": "code",
      "execution_count": null,
      "metadata": {
        "id": "pDG5_QSIaH4h"
      },
      "outputs": [],
      "source": [
        "def mse(imageA, imageB):\n",
        "    err = np.sum((imageA.astype(\"float\") - imageB.astype(\"float\")) ** 2)\n",
        "    err /= float(imageA.shape[0] * imageA.shape[1])\n",
        "    return err"
      ]
    },
    {
      "cell_type": "markdown",
      "metadata": {
        "id": "pmwVP_XvaJ_r"
      },
      "source": [
        "## **Semi-Master-Shot Boundary Detection (SBD)**"
      ]
    },
    {
      "cell_type": "code",
      "execution_count": null,
      "metadata": {
        "id": "RDDXZ3peaNkZ"
      },
      "outputs": [],
      "source": [
        "def extract_key_frames(video_path, output_folder, threshold=1000):\n",
        "    os.makedirs(output_folder, exist_ok=True)\n",
        "    cap = cv2.VideoCapture(video_path)\n",
        "    prev_frame = None\n",
        "    frame_id = 0\n",
        "    key_frames = []\n",
        "\n",
        "    while cap.isOpened():\n",
        "        ret, frame = cap.read()\n",
        "        if not ret:\n",
        "            break\n",
        "\n",
        "        gray = cv2.cvtColor(frame, cv2.COLOR_BGR2GRAY)\n",
        "\n",
        "        if prev_frame is not None:\n",
        "            difference = mse(prev_frame, gray)\n",
        "            if difference > threshold:  # Scene change detected\n",
        "                frame_path = os.path.join(output_folder, f'frame_{frame_id}.jpg')\n",
        "                cv2.imwrite(frame_path, frame)\n",
        "                key_frames.append(frame_path)\n",
        "                frame_id += 1\n",
        "\n",
        "        prev_frame = gray.copy()\n",
        "\n",
        "    cap.release()\n",
        "    print(f\"Extracted {len(key_frames)} key frames based on SBD.\")\n",
        "    return key_frames"
      ]
    },
    {
      "cell_type": "markdown",
      "metadata": {
        "id": "OHKHLI5qaPkK"
      },
      "source": [
        "## **Compute histogram similarity between two frames**"
      ]
    },
    {
      "cell_type": "code",
      "execution_count": null,
      "metadata": {
        "id": "vBmkMN_kaTuq"
      },
      "outputs": [],
      "source": [
        "def calculate_histogram_difference(frame1, frame2):\n",
        "    hist1 = cv2.calcHist([frame1], [0, 1, 2], None, [8, 8, 8], [0, 256, 0, 256, 0, 256])\n",
        "    hist2 = cv2.calcHist([frame2], [0, 1, 2], None, [8, 8, 8], [0, 256, 0, 256, 0, 256])\n",
        "    return cv2.compareHist(hist1, hist2, cv2.HISTCMP_CORREL)"
      ]
    },
    {
      "cell_type": "markdown",
      "metadata": {
        "id": "sEZY1TPwaTSq"
      },
      "source": [
        "## **Generate saliency map for a given frame**"
      ]
    },
    {
      "cell_type": "code",
      "execution_count": null,
      "metadata": {
        "id": "DNFgnryuaXZb"
      },
      "outputs": [],
      "source": [
        "def generate_saliency_map(image_path):\n",
        "    frame = cv2.imread(image_path)\n",
        "    saliency = cv2.saliency.StaticSaliencyFineGrained_create()\n",
        "    success, saliency_map = saliency.computeSaliency(frame)\n",
        "    saliency_map = (saliency_map * 255).astype(np.uint8)\n",
        "    return saliency_map"
      ]
    },
    {
      "cell_type": "markdown",
      "metadata": {
        "id": "FpP36KnYaZiz"
      },
      "source": [
        "## **Extract dominant colors using k-means clustering**"
      ]
    },
    {
      "cell_type": "code",
      "execution_count": null,
      "metadata": {
        "id": "EuF6VyLWabR8"
      },
      "outputs": [],
      "source": [
        "def get_color_palette(image_path, n_colors=10):\n",
        "    img = cv2.imread(image_path)\n",
        "    saliency_map = generate_saliency_map(image_path)\n",
        "    masked_img = cv2.bitwise_and(img, img, mask=saliency_map)\n",
        "\n",
        "    img = cv2.cvtColor(masked_img, cv2.COLOR_BGR2RGB)\n",
        "    img = img.reshape((-1, 3))\n",
        "    img = img[np.any(img != [0, 0, 0], axis=1)]  # Remove black pixels\n",
        "\n",
        "    if img.shape[0] == 0:\n",
        "        return [], saliency_map\n",
        "\n",
        "    kmeans = KMeans(n_clusters=min(n_colors, len(img)), random_state=42, n_init=10).fit(img)\n",
        "    colors = kmeans.cluster_centers_.astype(int)\n",
        "    counts = Counter(kmeans.labels_)\n",
        "    total_pixels = sum(counts.values())\n",
        "    color_percentages = [(colors[i], counts[i] / total_pixels * 100) for i in range(len(colors))]\n",
        "    color_percentages.sort(key=lambda x: x[1], reverse=True)\n",
        "\n",
        "    return color_percentages, saliency_map"
      ]
    },
    {
      "cell_type": "markdown",
      "metadata": {
        "id": "h7Q-D_zVadNL"
      },
      "source": [
        "## **Color Similarity Merging (CSM) Algorithm**"
      ]
    },
    {
      "cell_type": "code",
      "execution_count": null,
      "metadata": {
        "id": "0Rj79vaZafRM"
      },
      "outputs": [],
      "source": [
        "def merge_similar_colors(color_list, threshold=50):\n",
        "    if not color_list:\n",
        "        return []\n",
        "\n",
        "    colors = np.array([c[0] for c in color_list])\n",
        "    distances = cdist(colors, colors, metric='euclidean')\n",
        "    merged_colors = []\n",
        "    used = set()\n",
        "\n",
        "    for i in range(len(colors)):\n",
        "        if i in used:\n",
        "            continue\n",
        "\n",
        "        close_colors = [colors[i]]\n",
        "        for j in range(i + 1, len(colors)):\n",
        "            if j not in used and distances[i, j] < threshold:\n",
        "                close_colors.append(colors[j])\n",
        "                used.add(j)\n",
        "\n",
        "        merged_colors.append(np.mean(close_colors, axis=0).astype(int))\n",
        "\n",
        "    return merged_colors"
      ]
    },
    {
      "cell_type": "markdown",
      "metadata": {
        "id": "XwG3NE9WajBU"
      },
      "source": [
        "## **Display key frames alongside their saliency maps and color palettes**"
      ]
    },
    {
      "cell_type": "code",
      "execution_count": null,
      "metadata": {
        "id": "ORkOCRy6ajvE"
      },
      "outputs": [],
      "source": [
        "def display_key_frames_with_palettes(frames_folder, key_frames):\n",
        "    plt.figure(figsize=(15, 7 * len(key_frames)))\n",
        "\n",
        "    all_colors = []\n",
        "    valid_frames = 0\n",
        "    for frame_path in key_frames:\n",
        "        img = cv2.cvtColor(cv2.imread(frame_path), cv2.COLOR_BGR2RGB)\n",
        "        colors, saliency_map = get_color_palette(frame_path)\n",
        "\n",
        "        if not colors:\n",
        "            continue\n",
        "\n",
        "        all_colors.extend(colors)\n",
        "\n",
        "        plt.subplot(len(key_frames), 3, 3 * valid_frames + 1)\n",
        "        plt.imshow(img)\n",
        "        plt.title(frame_path.split(\"/\")[-1])\n",
        "        plt.axis('off')\n",
        "\n",
        "        plt.subplot(len(key_frames), 3, 3 * valid_frames + 2)\n",
        "        plt.imshow(saliency_map, cmap='gray')\n",
        "        plt.title(\"Saliency Map\")\n",
        "        plt.axis('off')\n",
        "\n",
        "        plt.subplot(len(key_frames), 3, 3 * valid_frames + 3)\n",
        "        palette = np.zeros((100, 500, 3), dtype=np.uint8)\n",
        "        step = 500 // len(colors)\n",
        "\n",
        "        for j, (color, percent) in enumerate(colors):\n",
        "            palette[:, j * step:(j + 1) * step] = color\n",
        "            plt.text(j * step, 110, f\"{percent:.2f}%\", fontsize=8, ha='center')\n",
        "\n",
        "        plt.imshow(palette)\n",
        "        plt.axis('off')\n",
        "        plt.title(\"Color Palette with Percentages\")\n",
        "        valid_frames += 1\n",
        "\n",
        "    plt.tight_layout()\n",
        "    plt.show()\n",
        "    # Merge color palettes from all frames\n",
        "    merged_colors = merge_similar_colors(all_colors)\n",
        "\n",
        "    # Display final merged color scheme\n",
        "    plt.figure(figsize=(10, 2))\n",
        "    final_palette = np.zeros((50, 500, 3), dtype=np.uint8)\n",
        "    step = 500 // len(merged_colors)\n",
        "\n",
        "    for i, color in enumerate(merged_colors):\n",
        "        final_palette[:, i * step:(i + 1) * step] = color\n",
        "\n",
        "    plt.imshow(final_palette)\n",
        "    plt.axis('off')\n",
        "    plt.title(\"Final Merged Color Scheme\")\n",
        "    plt.show()"
      ]
    },
    {
      "cell_type": "markdown",
      "metadata": {
        "id": "bT0fTTJEal8c"
      },
      "source": [
        "## **DRIVER CODE**"
      ]
    },
    {
      "cell_type": "code",
      "execution_count": null,
      "metadata": {
        "id": "Z-auTKaDaoPV"
      },
      "outputs": [],
      "source": [
        "# for every movie you want to work at the same time create new driver with unique folder name for frames.\n",
        "\n",
        "video_path = 'path_to_your_video'\n",
        "frames_folder = 'extracted_frames'\n",
        "key_frames = extract_key_frames(video_path, frames_folder)\n",
        "display_key_frames_with_palettes(frames_folder, key_frames)\n"
      ]
    },
    {
      "cell_type": "markdown",
      "metadata": {
        "id": "UbaSVYwgbkJD"
      },
      "source": [
        "## **Define updated video paths**"
      ]
    },
    {
      "cell_type": "code",
      "execution_count": null,
      "metadata": {
        "id": "QYzrTSdrbnaM"
      },
      "outputs": [],
      "source": [
        "video_paths = {\n",
        "    \"movie 1\": \"path/movie 1\",\n",
        "    \"movie 2\": \"path/movie 2\",\n",
        "    # for example\n",
        "    \"The Grand Budapest Hotel\": \"/content/THE GRAND BUDAPEST HOTEL - Official Wolrdwide Trailer HD.mp4\"\n",
        "}\n"
      ]
    },
    {
      "cell_type": "markdown",
      "metadata": {
        "id": "zMKlvYpnb7-W"
      },
      "source": [
        "## **Extract and store the frames for each movie in different folder**"
      ]
    },
    {
      "cell_type": "code",
      "execution_count": null,
      "metadata": {
        "id": "UffcIVSocE1Q"
      },
      "outputs": [],
      "source": [
        "\n",
        "def extract_frame(video_path, frame_number=150):\n",
        "    cap = cv2.VideoCapture(video_path)\n",
        "    total_frames = int(cap.get(cv2.CAP_PROP_FRAME_COUNT))\n",
        "\n",
        "    if total_frames == 0:\n",
        "        print(\"⚠️ Couldn't read frames from:\", video_path)\n",
        "        return None\n",
        "\n",
        "    frame_number = min(frame_number, total_frames - 1)\n",
        "    cap.set(cv2.CAP_PROP_POS_FRAMES, frame_number)\n",
        "    ret, frame = cap.read()\n",
        "    cap.release()\n",
        "\n",
        "    if ret:\n",
        "        frame_path = \"frame.jpg\"\n",
        "        cv2.imwrite(frame_path, frame)\n",
        "        return frame_path\n",
        "    else:\n",
        "        print(\"❌ Could not extract frame.\")\n",
        "        return None\n"
      ]
    },
    {
      "cell_type": "markdown",
      "metadata": {
        "id": "-cCpBarBcVRx"
      },
      "source": [
        "## **Closest named colour for any palette**"
      ]
    },
    {
      "cell_type": "code",
      "execution_count": null,
      "metadata": {
        "id": "VjjB5quFcfjS"
      },
      "outputs": [],
      "source": [
        "css3_colors = {\n",
        "    'black': (0, 0, 0), 'white': (255, 255, 255), 'red': (255, 0, 0), 'lime': (0, 255, 0),\n",
        "    'blue': (0, 0, 255), 'yellow': (255, 255, 0), 'cyan': (0, 255, 255), 'magenta': (255, 0, 255),\n",
        "    'silver': (192, 192, 192), 'gray': (128, 128, 128), 'maroon': (128, 0, 0),\n",
        "    'olive': (128, 128, 0), 'green': (0, 128, 0), 'purple': (128, 0, 128),\n",
        "    'teal': (0, 128, 128), 'navy': (0, 0, 128)\n",
        "}\n",
        "\n",
        "def closest_colour(requested_colour):\n",
        "    min_distance = float('inf')\n",
        "    closest_name = None\n",
        "    for name, rgb in css3_colors.items():\n",
        "        distance = math.sqrt(sum((rc - sc) ** 2 for rc, sc in zip(rgb, requested_colour)))\n",
        "        if distance < min_distance:\n",
        "            min_distance = distance\n",
        "            closest_name = name\n",
        "    return closest_name\n",
        "\n",
        "def get_color_name(rgb_tuple):\n",
        "    try:\n",
        "        return webcolors.rgb_to_name(rgb_tuple)\n",
        "    except ValueError:\n",
        "        return closest_colour(rgb_tuple)"
      ]
    },
    {
      "cell_type": "markdown",
      "metadata": {
        "id": "dTIHBXp_ciub"
      },
      "source": [
        "## **Dominant color name for each movie**"
      ]
    },
    {
      "cell_type": "code",
      "execution_count": null,
      "metadata": {
        "id": "TZRwWm46codE"
      },
      "outputs": [],
      "source": [
        "\n",
        "for title, path in video_paths.items():\n",
        "    print(f\"\\n🎞️ Processing: {title}\")\n",
        "    frame_path = extract_frame(path)\n",
        "    if frame_path:\n",
        "        color_percentages, _ = get_color_palette(frame_path)\n",
        "        if color_percentages:\n",
        "            dominant_rgb = tuple(color_percentages[0][0])\n",
        "            dominant_name = get_color_name(dominant_rgb)\n",
        "            print(f\"🎨 Dominant RGB: {dominant_rgb}\")\n",
        "            print(f\"🟢 Recommended Color Name: {dominant_name}\")\n",
        "        else:\n",
        "            print(\"⚠️ No colors found.\")\n",
        "        os.remove(frame_path)\n",
        "    else:\n",
        "        print(\"❌ Failed to extract frame.\")\n"
      ]
    },
    {
      "cell_type": "markdown",
      "metadata": {
        "id": "hfmJvxMMcrwD"
      },
      "source": [
        "## **Necessary Formatting**"
      ]
    },
    {
      "cell_type": "code",
      "execution_count": null,
      "metadata": {
        "id": "quIsQeAxc4Ul"
      },
      "outputs": [],
      "source": [
        "# HEX formatter\n",
        "def rgb_to_hex(rgb):\n",
        "    return '#{:02x}{:02x}{:02x}'.format(*rgb)\n",
        "\n",
        "# Safe CSS3 color name detection (no webcolors dependency)\n",
        "def closest_colour(requested_colour):\n",
        "    css3_colors = {\n",
        "        'black': (0, 0, 0), 'white': (255, 255, 255), 'red': (255, 0, 0), 'lime': (0, 255, 0),\n",
        "        'blue': (0, 0, 255), 'yellow': (255, 255, 0), 'cyan': (0, 255, 255), 'magenta': (255, 0, 255),\n",
        "        'silver': (192, 192, 192), 'gray': (128, 128, 128), 'maroon': (128, 0, 0),\n",
        "        'olive': (128, 128, 0), 'green': (0, 128, 0), 'purple': (128, 0, 128),\n",
        "        'teal': (0, 128, 128), 'navy': (0, 0, 128), 'orange': (255, 165, 0), 'pink': (255, 192, 203)\n",
        "    }\n",
        "\n",
        "    min_distance = float('inf')\n",
        "    closest_name = None\n",
        "    for name, rgb in css3_colors.items():\n",
        "        dist = sum((rc - sc) ** 2 for rc, sc in zip(rgb, requested_colour))\n",
        "        if dist < min_distance:\n",
        "            min_distance = dist\n",
        "            closest_name = name\n",
        "    return closest_name"
      ]
    },
    {
      "cell_type": "markdown",
      "metadata": {
        "id": "Yhlv2-HpdBDn"
      },
      "source": [
        "## **Genre detection from RGB**"
      ]
    },
    {
      "cell_type": "code",
      "execution_count": null,
      "metadata": {
        "id": "WcYEzjY-dCPG"
      },
      "outputs": [],
      "source": [
        "def infer_genre_from_rgb(rgb):\n",
        "    r, g, b = rgb\n",
        "    if sum(rgb) < 90:\n",
        "        return \"Sci-Fi, Thriller, Noir\"\n",
        "    elif r > 180 and g < 100 and b < 100:\n",
        "        return \"Romance, Drama\"\n",
        "    elif r > 150 and g > 100 and b < 100:\n",
        "        return \"Adventure, Coming-of-Age\"\n",
        "    elif b > 180 and r < 150:\n",
        "        return \"Fantasy, Mystery\"\n",
        "    elif r > 200 and g > 150 and b > 150:\n",
        "        return \"Comedy, Feel-Good\"\n",
        "    else:\n",
        "        return \"Experimental, Mixed Genre\"\n",
        "\n",
        "# Folder map used in previous dominant color step\n",
        "movie_frames = {\n",
        "    \"movie 1\": \"path/movie 1\",\n",
        "    \"movie 2\": \"path/movie 2\",\n",
        "    # for example\n",
        "    \"The Grand Budapest Hotel\": \"extracted_frames_grand\"\n",
        "}"
      ]
    },
    {
      "cell_type": "markdown",
      "metadata": {
        "id": "vQT_RAdadLxn"
      },
      "source": [
        "## **Final step to show genre and suggestions**"
      ]
    },
    {
      "cell_type": "code",
      "execution_count": null,
      "metadata": {
        "id": "QJ6UrQl9dOnB"
      },
      "outputs": [],
      "source": [
        "print(\"\\n🎬 Genre Suggestions Based on Dominant Color:\\n\")\n",
        "for title, folder in movie_frames.items():\n",
        "    key_frames = [os.path.join(folder, f) for f in os.listdir(folder) if f.endswith(\".jpg\")]\n",
        "    top_colors = []\n",
        "\n",
        "    for frame_path in key_frames:\n",
        "        colors, _ = get_color_palette(frame_path)\n",
        "        if colors:\n",
        "            top_colors.append(tuple(map(int, colors[0][0])))\n",
        "\n",
        "    if not top_colors:\n",
        "        print(f\"{title}: ⚠️ No dominant color found.\\n\")\n",
        "        continue\n",
        "\n",
        "    majority_rgb = Counter(top_colors).most_common(1)[0][0]\n",
        "    majority_hex = rgb_to_hex(majority_rgb)\n",
        "    color_name = closest_colour(majority_rgb)\n",
        "    genre = infer_genre_from_rgb(majority_rgb)\n",
        "\n",
        "    print(f\"{title}:\")\n",
        "    print(f\"🎨 Dominant RGB: {majority_rgb}\")\n",
        "    print(f\"🟢 HEX: {majority_hex}, Color Name: {color_name}\")\n",
        "    print(f\"🎬 Suggested Genres: {genre}\\n\")\n"
      ]
    }
  ],
  "metadata": {
    "colab": {
      "provenance": []
    },
    "kernelspec": {
      "display_name": "Python 3",
      "name": "python3"
    },
    "language_info": {
      "name": "python"
    }
  },
  "nbformat": 4,
  "nbformat_minor": 0
}
